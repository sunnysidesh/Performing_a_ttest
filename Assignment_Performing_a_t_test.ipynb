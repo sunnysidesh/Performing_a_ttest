{
  "nbformat": 4,
  "nbformat_minor": 0,
  "metadata": {
    "colab": {
      "name": "Assignment_Performing a t-test.ipynb",
      "provenance": []
    },
    "kernelspec": {
      "name": "python3",
      "display_name": "Python 3"
    }
  },
  "cells": [
    {
      "cell_type": "code",
      "metadata": {
        "id": "NtITskImMxRQ",
        "colab_type": "code",
        "colab": {}
      },
      "source": [
        "# 1. Do homes with air conditioning have a higher sales price than homes without air conditioning?"
      ],
      "execution_count": 0,
      "outputs": []
    },
    {
      "cell_type": "code",
      "metadata": {
        "id": "jU3iO0qoM8n4",
        "colab_type": "code",
        "colab": {
          "base_uri": "https://localhost:8080/",
          "height": 493
        },
        "outputId": "1f59f2a0-6bc4-4bdd-f010-c7f6bed58e98"
      },
      "source": [
        "import math\n",
        "import pandas as pd\n",
        "import numpy as np\n",
        "from scipy import stats\n",
        "import matplotlib.pyplot as plt\n",
        "\n",
        "\n",
        "homeprices = pd.read_csv(\"homeprices.applied.econ.csv\")\n",
        "\n",
        "\n",
        "homeprices.info()\n",
        "\n",
        "homeprices.head()"
      ],
      "execution_count": 2,
      "outputs": [
        {
          "output_type": "stream",
          "text": [
            "<class 'pandas.core.frame.DataFrame'>\n",
            "RangeIndex: 546 entries, 0 to 545\n",
            "Data columns (total 12 columns):\n",
            "price       546 non-null float64\n",
            "lotsize     546 non-null int64\n",
            "bedrooms    546 non-null int64\n",
            "bathrms     546 non-null int64\n",
            "stories     546 non-null int64\n",
            "driveway    546 non-null object\n",
            "recroom     546 non-null object\n",
            "fullbase    546 non-null object\n",
            "gashw       546 non-null object\n",
            "airco       546 non-null object\n",
            "garagepl    546 non-null int64\n",
            "prefarea    546 non-null object\n",
            "dtypes: float64(1), int64(5), object(6)\n",
            "memory usage: 51.3+ KB\n"
          ],
          "name": "stdout"
        },
        {
          "output_type": "execute_result",
          "data": {
            "text/html": [
              "<div>\n",
              "<style scoped>\n",
              "    .dataframe tbody tr th:only-of-type {\n",
              "        vertical-align: middle;\n",
              "    }\n",
              "\n",
              "    .dataframe tbody tr th {\n",
              "        vertical-align: top;\n",
              "    }\n",
              "\n",
              "    .dataframe thead th {\n",
              "        text-align: right;\n",
              "    }\n",
              "</style>\n",
              "<table border=\"1\" class=\"dataframe\">\n",
              "  <thead>\n",
              "    <tr style=\"text-align: right;\">\n",
              "      <th></th>\n",
              "      <th>price</th>\n",
              "      <th>lotsize</th>\n",
              "      <th>bedrooms</th>\n",
              "      <th>bathrms</th>\n",
              "      <th>stories</th>\n",
              "      <th>driveway</th>\n",
              "      <th>recroom</th>\n",
              "      <th>fullbase</th>\n",
              "      <th>gashw</th>\n",
              "      <th>airco</th>\n",
              "      <th>garagepl</th>\n",
              "      <th>prefarea</th>\n",
              "    </tr>\n",
              "  </thead>\n",
              "  <tbody>\n",
              "    <tr>\n",
              "      <th>0</th>\n",
              "      <td>42000.0</td>\n",
              "      <td>5850</td>\n",
              "      <td>3</td>\n",
              "      <td>1</td>\n",
              "      <td>2</td>\n",
              "      <td>yes</td>\n",
              "      <td>no</td>\n",
              "      <td>yes</td>\n",
              "      <td>no</td>\n",
              "      <td>no</td>\n",
              "      <td>1</td>\n",
              "      <td>no</td>\n",
              "    </tr>\n",
              "    <tr>\n",
              "      <th>1</th>\n",
              "      <td>66000.0</td>\n",
              "      <td>3880</td>\n",
              "      <td>3</td>\n",
              "      <td>2</td>\n",
              "      <td>2</td>\n",
              "      <td>yes</td>\n",
              "      <td>no</td>\n",
              "      <td>yes</td>\n",
              "      <td>no</td>\n",
              "      <td>no</td>\n",
              "      <td>2</td>\n",
              "      <td>no</td>\n",
              "    </tr>\n",
              "    <tr>\n",
              "      <th>2</th>\n",
              "      <td>83800.0</td>\n",
              "      <td>4800</td>\n",
              "      <td>3</td>\n",
              "      <td>1</td>\n",
              "      <td>1</td>\n",
              "      <td>yes</td>\n",
              "      <td>yes</td>\n",
              "      <td>yes</td>\n",
              "      <td>no</td>\n",
              "      <td>no</td>\n",
              "      <td>0</td>\n",
              "      <td>no</td>\n",
              "    </tr>\n",
              "    <tr>\n",
              "      <th>3</th>\n",
              "      <td>45000.0</td>\n",
              "      <td>3986</td>\n",
              "      <td>2</td>\n",
              "      <td>2</td>\n",
              "      <td>1</td>\n",
              "      <td>no</td>\n",
              "      <td>yes</td>\n",
              "      <td>yes</td>\n",
              "      <td>no</td>\n",
              "      <td>no</td>\n",
              "      <td>1</td>\n",
              "      <td>no</td>\n",
              "    </tr>\n",
              "    <tr>\n",
              "      <th>4</th>\n",
              "      <td>65900.0</td>\n",
              "      <td>4510</td>\n",
              "      <td>4</td>\n",
              "      <td>2</td>\n",
              "      <td>2</td>\n",
              "      <td>yes</td>\n",
              "      <td>no</td>\n",
              "      <td>yes</td>\n",
              "      <td>no</td>\n",
              "      <td>no</td>\n",
              "      <td>0</td>\n",
              "      <td>no</td>\n",
              "    </tr>\n",
              "  </tbody>\n",
              "</table>\n",
              "</div>"
            ],
            "text/plain": [
              "     price  lotsize  bedrooms  bathrms  ...  gashw airco garagepl prefarea\n",
              "0  42000.0     5850         3        1  ...     no    no        1       no\n",
              "1  66000.0     3880         3        2  ...     no    no        2       no\n",
              "2  83800.0     4800         3        1  ...     no    no        0       no\n",
              "3  45000.0     3986         2        2  ...     no    no        1       no\n",
              "4  65900.0     4510         4        2  ...     no    no        0       no\n",
              "\n",
              "[5 rows x 12 columns]"
            ]
          },
          "metadata": {
            "tags": []
          },
          "execution_count": 2
        }
      ]
    },
    {
      "cell_type": "code",
      "metadata": {
        "id": "iYmV43wAM8qd",
        "colab_type": "code",
        "colab": {
          "base_uri": "https://localhost:8080/",
          "height": 595
        },
        "outputId": "551b6761-e02e-4499-c5e7-3d07d4d76545"
      },
      "source": [
        "# Split up our dataset\n",
        "\n",
        "ac_yes = homeprices[homeprices['airco'] == 'yes']\n",
        "ac_yes.info()\n",
        "\n",
        "ac_no = homeprices[homeprices['airco'] == 'no']\n",
        "ac_no.info()"
      ],
      "execution_count": 3,
      "outputs": [
        {
          "output_type": "stream",
          "text": [
            "<class 'pandas.core.frame.DataFrame'>\n",
            "Int64Index: 173 entries, 373 to 545\n",
            "Data columns (total 12 columns):\n",
            "price       173 non-null float64\n",
            "lotsize     173 non-null int64\n",
            "bedrooms    173 non-null int64\n",
            "bathrms     173 non-null int64\n",
            "stories     173 non-null int64\n",
            "driveway    173 non-null object\n",
            "recroom     173 non-null object\n",
            "fullbase    173 non-null object\n",
            "gashw       173 non-null object\n",
            "airco       173 non-null object\n",
            "garagepl    173 non-null int64\n",
            "prefarea    173 non-null object\n",
            "dtypes: float64(1), int64(5), object(6)\n",
            "memory usage: 17.6+ KB\n",
            "<class 'pandas.core.frame.DataFrame'>\n",
            "Int64Index: 373 entries, 0 to 372\n",
            "Data columns (total 12 columns):\n",
            "price       373 non-null float64\n",
            "lotsize     373 non-null int64\n",
            "bedrooms    373 non-null int64\n",
            "bathrms     373 non-null int64\n",
            "stories     373 non-null int64\n",
            "driveway    373 non-null object\n",
            "recroom     373 non-null object\n",
            "fullbase    373 non-null object\n",
            "gashw       373 non-null object\n",
            "airco       373 non-null object\n",
            "garagepl    373 non-null int64\n",
            "prefarea    373 non-null object\n",
            "dtypes: float64(1), int64(5), object(6)\n",
            "memory usage: 37.9+ KB\n"
          ],
          "name": "stdout"
        }
      ]
    },
    {
      "cell_type": "code",
      "metadata": {
        "id": "4G0s_hQBM8tU",
        "colab_type": "code",
        "colab": {
          "base_uri": "https://localhost:8080/",
          "height": 299
        },
        "outputId": "ace50c2c-0081-43d7-9742-6160d71a2e0e"
      },
      "source": [
        "# Plot our variables\n",
        "\n",
        "plt.hist(ac_yes['price'], alpha = .5)\n",
        "plt.hist(ac_no['price'], alpha = .5)\n",
        "plt.show()\n",
        "\n",
        "print(stats.describe(ac_yes['price']))\n",
        "print(stats.describe(ac_no['price']))"
      ],
      "execution_count": 8,
      "outputs": [
        {
          "output_type": "display_data",
          "data": {
            "image/png": "[encoded data removed]",
            "text/plain": [
              "<Figure size 432x288 with 1 Axes>"
            ]
          },
          "metadata": {
            "tags": []
          }
        },
        {
          "output_type": "stream",
          "text": [
            "DescribeResult(nobs=173, minmax=(31900.0, 190000.0), mean=85880.58959537573, variance=810167352.2317516, skewness=0.8558523643779228, kurtosis=0.9609338749117713)\n",
            "DescribeResult(nobs=373, minmax=(25000.0, 175000.0), mean=59884.85254691689, variance=455341800.98626363, skewness=1.4196100209360347, kurtosis=3.448225770991252)\n"
          ],
          "name": "stdout"
        }
      ]
    },
    {
      "cell_type": "code",
      "metadata": {
        "id": "Z1KyV562M833",
        "colab_type": "code",
        "colab": {}
      },
      "source": [
        "# Answer: based on the stats and histogram, it looks like the average sales price of houses with No AC is higher than houses with AC"
      ],
      "execution_count": 0,
      "outputs": []
    },
    {
      "cell_type": "code",
      "metadata": {
        "id": "W2OzhLUpOB2s",
        "colab_type": "code",
        "colab": {}
      },
      "source": [
        ""
      ],
      "execution_count": 0,
      "outputs": []
    },
    {
      "cell_type": "code",
      "metadata": {
        "id": "eAPoIB2wOmbG",
        "colab_type": "code",
        "colab": {}
      },
      "source": [
        "# 2. Do homes with a full basement have a higher sales price than homes without a full basement?"
      ],
      "execution_count": 0,
      "outputs": []
    },
    {
      "cell_type": "code",
      "metadata": {
        "id": "ivc0iRm0Omdh",
        "colab_type": "code",
        "colab": {
          "base_uri": "https://localhost:8080/",
          "height": 595
        },
        "outputId": "e97bd713-63cd-439a-e11a-6563adfb4730"
      },
      "source": [
        "# Split up our dataset\n",
        "\n",
        "fullbase_yes = homeprices[homeprices['fullbase'] == 'yes']\n",
        "fullbase_yes.info()\n",
        "\n",
        "fullbase_no = homeprices[homeprices['fullbase'] == 'no']\n",
        "fullbase_no.info()"
      ],
      "execution_count": 9,
      "outputs": [
        {
          "output_type": "stream",
          "text": [
            "<class 'pandas.core.frame.DataFrame'>\n",
            "Int64Index: 191 entries, 0 to 438\n",
            "Data columns (total 12 columns):\n",
            "price       191 non-null float64\n",
            "lotsize     191 non-null int64\n",
            "bedrooms    191 non-null int64\n",
            "bathrms     191 non-null int64\n",
            "stories     191 non-null int64\n",
            "driveway    191 non-null object\n",
            "recroom     191 non-null object\n",
            "fullbase    191 non-null object\n",
            "gashw       191 non-null object\n",
            "airco       191 non-null object\n",
            "garagepl    191 non-null int64\n",
            "prefarea    191 non-null object\n",
            "dtypes: float64(1), int64(5), object(6)\n",
            "memory usage: 19.4+ KB\n",
            "<class 'pandas.core.frame.DataFrame'>\n",
            "Int64Index: 355 entries, 125 to 545\n",
            "Data columns (total 12 columns):\n",
            "price       355 non-null float64\n",
            "lotsize     355 non-null int64\n",
            "bedrooms    355 non-null int64\n",
            "bathrms     355 non-null int64\n",
            "stories     355 non-null int64\n",
            "driveway    355 non-null object\n",
            "recroom     355 non-null object\n",
            "fullbase    355 non-null object\n",
            "gashw       355 non-null object\n",
            "airco       355 non-null object\n",
            "garagepl    355 non-null int64\n",
            "prefarea    355 non-null object\n",
            "dtypes: float64(1), int64(5), object(6)\n",
            "memory usage: 36.1+ KB\n"
          ],
          "name": "stdout"
        }
      ]
    },
    {
      "cell_type": "code",
      "metadata": {
        "id": "68LUmMZbOmgU",
        "colab_type": "code",
        "colab": {
          "base_uri": "https://localhost:8080/",
          "height": 299
        },
        "outputId": "40df3026-7aeb-4599-cc26-bdb6568fc693"
      },
      "source": [
        "# Plot our variables\n",
        "\n",
        "plt.hist(fullbase_yes['price'], alpha = .5)\n",
        "plt.hist(fullbase_no['price'], alpha = .5)\n",
        "plt.show()\n",
        "\n",
        "print(stats.describe(fullbase_yes['price']))\n",
        "print(stats.describe(fullbase_no['price']))"
      ],
      "execution_count": 11,
      "outputs": [
        {
          "output_type": "display_data",
          "data": {
            "image/png": "[encoded data removed]",
            "text/plain": [
              "<Figure size 432x288 with 1 Axes>"
            ]
          },
          "metadata": {
            "tags": []
          }
        },
        {
          "output_type": "stream",
          "text": [
            "DescribeResult(nobs=191, minmax=(26000.0, 175000.0), mean=74894.50261780104, variance=687483535.4092036, skewness=1.299439350765169, kurtosis=2.200944427832982)\n",
            "DescribeResult(nobs=355, minmax=(25000.0, 190000.0), mean=64477.58309859155, variance=690693014.1816344, skewness=1.2539001276811907, kurtosis=1.9898502593432044)\n"
          ],
          "name": "stdout"
        }
      ]
    },
    {
      "cell_type": "code",
      "metadata": {
        "id": "oyC8oUX-OmYT",
        "colab_type": "code",
        "colab": {
          "base_uri": "https://localhost:8080/",
          "height": 34
        },
        "outputId": "7ec18895-aa16-48a4-ac6b-101c79b9317e"
      },
      "source": [
        "stats.ttest_ind(fullbase_yes['price'], fullbase_no['price'])"
      ],
      "execution_count": 12,
      "outputs": [
        {
          "output_type": "execute_result",
          "data": {
            "text/plain": [
              "Ttest_indResult(statistic=4.420628512286621, pvalue=1.1885626562866786e-05)"
            ]
          },
          "metadata": {
            "tags": []
          },
          "execution_count": 12
        }
      ]
    },
    {
      "cell_type": "code",
      "metadata": {
        "id": "GTccHkSPOB5L",
        "colab_type": "code",
        "colab": {
          "base_uri": "https://localhost:8080/",
          "height": 34
        },
        "outputId": "99904eb8-40b9-431b-c391-9d4151868205"
      },
      "source": [
        "def get_95_ci(array_1, array_2):\n",
        "    sample_1_n = array_1.shape[0]\n",
        "    sample_2_n = array_2.shape[0]\n",
        "    sample_1_mean = array_1.mean()\n",
        "    sample_2_mean = array_2.mean()\n",
        "    sample_1_var = array_1.var()\n",
        "    sample_2_var = array_2.var()\n",
        "    mean_difference = sample_2_mean - sample_1_mean\n",
        "    std_err_difference = math.sqrt((sample_1_var/sample_1_n)+(sample_2_var/sample_2_n))\n",
        "    margin_of_error = 1.96 * std_err_difference\n",
        "    ci_lower = mean_difference - margin_of_error\n",
        "    ci_upper = mean_difference + margin_of_error\n",
        "    return(\"The difference in means at the 95% confidence interval (two-tail) is between \"+str(ci_lower)+\" and \"+str(ci_upper)+\".\")\n",
        "\n",
        "get_95_ci(fullbase_yes['price'], fullbase_no['price'])"
      ],
      "execution_count": 13,
      "outputs": [
        {
          "output_type": "execute_result",
          "data": {
            "text/plain": [
              "'The difference in means at the 95% confidence interval (two-tail) is between -15032.294775656886 and -5801.544262762097.'"
            ]
          },
          "metadata": {
            "tags": []
          },
          "execution_count": 13
        }
      ]
    },
    {
      "cell_type": "code",
      "metadata": {
        "id": "mxdwzH6LOB7Y",
        "colab_type": "code",
        "colab": {
          "base_uri": "https://localhost:8080/",
          "height": 283
        },
        "outputId": "dcc02a42-b2ea-4d7a-c86a-5699d7bab320"
      },
      "source": [
        "import seaborn as sns\n",
        "\n",
        "g = sns.pointplot(data=[fullbase_yes['price'], fullbase_no['price']], join=False)\n",
        "                        \n",
        "g.set(xticklabels = ['fullbase_yes', 'fullbase_no'])"
      ],
      "execution_count": 14,
      "outputs": [
        {
          "output_type": "execute_result",
          "data": {
            "text/plain": [
              "[[Text(0, 0, 'fullbase_yes'), Text(0, 0, 'fullbase_no')]]"
            ]
          },
          "metadata": {
            "tags": []
          },
          "execution_count": 14
        },
        {
          "output_type": "display_data",
          "data": {
            "image/png": "[encoded data removed]",
            "text/plain": [
              "<Figure size 432x288 with 1 Axes>"
            ]
          },
          "metadata": {
            "tags": []
          }
        }
      ]
    },
    {
      "cell_type": "code",
      "metadata": {
        "id": "5Z-XtRkoOB99",
        "colab_type": "code",
        "colab": {}
      },
      "source": [
        "# Answer: based on the statistics and histogram, we can find out that homes with fullbase have higher average sales than homes with no fullbase"
      ],
      "execution_count": 0,
      "outputs": []
    },
    {
      "cell_type": "code",
      "metadata": {
        "id": "Z86-XTmhOCBj",
        "colab_type": "code",
        "colab": {}
      },
      "source": [
        ""
      ],
      "execution_count": 0,
      "outputs": []
    }
  ]
}